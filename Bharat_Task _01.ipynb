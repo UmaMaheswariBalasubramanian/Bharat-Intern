{
 "cells": [
  {
   "cell_type": "markdown",
   "id": "0a7ef90a",
   "metadata": {},
   "source": [
    "# PROBLEM STATEMENT : \n",
    "\n"
   ]
  },
  {
   "cell_type": "markdown",
   "id": "07fdeb65",
   "metadata": {},
   "source": [
    "### SMS Classifier : Develop a text classification model to classify SMS as either spam or non-spam using data science techniques in Python"
   ]
  },
  {
   "cell_type": "markdown",
   "id": "5a04b6b9",
   "metadata": {},
   "source": [
    "Import Libraries:\n",
    "Start by importing the necessary libraries."
   ]
  },
  {
   "cell_type": "code",
   "execution_count": 1,
   "id": "c57fee24",
   "metadata": {},
   "outputs": [],
   "source": [
    "import pandas as pd\n",
    "from sklearn.model_selection import train_test_split\n",
    "from sklearn.feature_extraction.text import CountVectorizer\n",
    "from sklearn.naive_bayes import MultinomialNB\n",
    "from sklearn.metrics import accuracy_score, classification_report, confusion_matrix\n"
   ]
  },
  {
   "cell_type": "code",
   "execution_count": 2,
   "id": "14d85ff6",
   "metadata": {},
   "outputs": [
    {
     "name": "stdout",
     "output_type": "stream",
     "text": [
      "     v1                                                 v2 Unnamed: 2  \\\n",
      "0   ham  Go until jurong point, crazy.. Available only ...        NaN   \n",
      "1   ham                      Ok lar... Joking wif u oni...        NaN   \n",
      "2  spam  Free entry in 2 a wkly comp to win FA Cup fina...        NaN   \n",
      "3   ham  U dun say so early hor... U c already then say...        NaN   \n",
      "4   ham  Nah I don't think he goes to usf, he lives aro...        NaN   \n",
      "\n",
      "  Unnamed: 3 Unnamed: 4  \n",
      "0        NaN        NaN  \n",
      "1        NaN        NaN  \n",
      "2        NaN        NaN  \n",
      "3        NaN        NaN  \n",
      "4        NaN        NaN  \n"
     ]
    }
   ],
   "source": [
    "# Assuming you've downloaded the dataset as 'spam.csv'\n",
    "df = pd.read_csv('spam.csv', encoding='latin-1')\n",
    "\n",
    "# Display the first few rows of the dataset\n",
    "print(df.head())\n"
   ]
  },
  {
   "cell_type": "markdown",
   "id": "4f101054",
   "metadata": {},
   "source": [
    "Data Preprocessing:\n",
    "Clean and preprocess the data. This may include removing unnecessary columns, handling missing values, and converting labels to numerical format."
   ]
  },
  {
   "cell_type": "code",
   "execution_count": 3,
   "id": "2afcf7f3",
   "metadata": {},
   "outputs": [],
   "source": [
    "# Assuming your dataset has a 'v1' column containing labels and a 'v2' column containing SMS messages\n",
    "df = df[['v1', 'v2']]\n",
    "df.columns = ['label', 'text']\n",
    "df['label'] = df['label'].map({'ham': 0, 'spam': 1})\n"
   ]
  },
  {
   "cell_type": "markdown",
   "id": "6a70b0ba",
   "metadata": {},
   "source": [
    "Split the Data:\n",
    "Split the dataset into training and testing sets."
   ]
  },
  {
   "cell_type": "code",
   "execution_count": 4,
   "id": "c63d3e6c",
   "metadata": {},
   "outputs": [],
   "source": [
    "X_train, X_test, y_train, y_test = train_test_split(df['text'], df['label'], test_size=0.2, random_state=42)\n"
   ]
  },
  {
   "cell_type": "markdown",
   "id": "8531ba59",
   "metadata": {},
   "source": [
    "Feature Extraction:\n",
    "Convert the text data into numerical features using techniques like Count Vectorization."
   ]
  },
  {
   "cell_type": "code",
   "execution_count": 5,
   "id": "bf287dcb",
   "metadata": {},
   "outputs": [],
   "source": [
    "vectorizer = CountVectorizer()\n",
    "X_train_vec = vectorizer.fit_transform(X_train)\n",
    "X_test_vec = vectorizer.transform(X_test)\n"
   ]
  },
  {
   "cell_type": "markdown",
   "id": "3a8536e6",
   "metadata": {},
   "source": [
    "Build and Train the Model:\n",
    "Choose a classification model (here we use Naive Bayes) and train it on the training set."
   ]
  },
  {
   "cell_type": "code",
   "execution_count": 6,
   "id": "7ace332a",
   "metadata": {},
   "outputs": [
    {
     "data": {
      "text/plain": [
       "MultinomialNB()"
      ]
     },
     "execution_count": 6,
     "metadata": {},
     "output_type": "execute_result"
    }
   ],
   "source": [
    "model = MultinomialNB()\n",
    "model.fit(X_train_vec, y_train)\n"
   ]
  },
  {
   "cell_type": "markdown",
   "id": "19358c3e",
   "metadata": {},
   "source": [
    "Evaluate the Model:\n",
    "Evaluate the model on the testing set and check performance metrics."
   ]
  },
  {
   "cell_type": "code",
   "execution_count": 7,
   "id": "7475fef7",
   "metadata": {},
   "outputs": [
    {
     "name": "stdout",
     "output_type": "stream",
     "text": [
      "Accuracy: 0.9838565022421525\n",
      "\n",
      "Classification Report:\n",
      "               precision    recall  f1-score   support\n",
      "\n",
      "           0       0.98      1.00      0.99       965\n",
      "           1       0.99      0.89      0.94       150\n",
      "\n",
      "    accuracy                           0.98      1115\n",
      "   macro avg       0.98      0.95      0.96      1115\n",
      "weighted avg       0.98      0.98      0.98      1115\n",
      "\n",
      "\n",
      "Confusion Matrix:\n",
      " [[963   2]\n",
      " [ 16 134]]\n"
     ]
    }
   ],
   "source": [
    "y_pred = model.predict(X_test_vec)\n",
    "\n",
    "print(\"Accuracy:\", accuracy_score(y_test, y_pred))\n",
    "print(\"\\nClassification Report:\\n\", classification_report(y_test, y_pred))\n",
    "print(\"\\nConfusion Matrix:\\n\", confusion_matrix(y_test, y_pred))\n"
   ]
  },
  {
   "cell_type": "markdown",
   "id": "f53200f5",
   "metadata": {},
   "source": [
    "Prediction:\n",
    "You can use the trained model to classify new SMS messages."
   ]
  },
  {
   "cell_type": "code",
   "execution_count": 8,
   "id": "25ea99d4",
   "metadata": {},
   "outputs": [
    {
     "name": "stdout",
     "output_type": "stream",
     "text": [
      "Free gift! Click now! - Spam\n",
      "Hello, how are you? - Non-Spam\n"
     ]
    }
   ],
   "source": [
    "new_sms = [\"Free gift! Click now!\", \"Hello, how are you?\"]\n",
    "new_sms_vec = vectorizer.transform(new_sms)\n",
    "predictions = model.predict(new_sms_vec)\n",
    "\n",
    "for sms, prediction in zip(new_sms, predictions):\n",
    "    print(f\"{sms} - {'Spam' if prediction == 1 else 'Non-Spam'}\")\n"
   ]
  }
 ],
 "metadata": {
  "kernelspec": {
   "display_name": "Python 3 (ipykernel)",
   "language": "python",
   "name": "python3"
  },
  "language_info": {
   "codemirror_mode": {
    "name": "ipython",
    "version": 3
   },
   "file_extension": ".py",
   "mimetype": "text/x-python",
   "name": "python",
   "nbconvert_exporter": "python",
   "pygments_lexer": "ipython3",
   "version": "3.9.7"
  }
 },
 "nbformat": 4,
 "nbformat_minor": 5
}
